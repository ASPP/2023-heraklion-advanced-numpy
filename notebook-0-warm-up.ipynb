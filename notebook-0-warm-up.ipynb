{
 "cells": [
  {
   "cell_type": "markdown",
   "id": "fd2ee3f2",
   "metadata": {
    "slideshow": {
     "slide_type": "slide"
    }
   },
   "source": [
    "![](imgs/Advanced_numpy_cover.png)"
   ]
  },
  {
   "cell_type": "markdown",
   "id": "81bfa588",
   "metadata": {
    "slideshow": {
     "slide_type": "slide"
    }
   },
   "source": [
    "# Numpy arrays\n",
    "**1D-arrays**"
   ]
  },
  {
   "cell_type": "code",
   "execution_count": 1,
   "id": "87f078ef",
   "metadata": {
    "slideshow": {
     "slide_type": "fragment"
    }
   },
   "outputs": [],
   "source": [
    "import numpy as np"
   ]
  },
  {
   "cell_type": "code",
   "execution_count": 2,
   "id": "564d466d",
   "metadata": {
    "slideshow": {
     "slide_type": "fragment"
    }
   },
   "outputs": [],
   "source": [
    "# Zeros array\n"
   ]
  },
  {
   "cell_type": "code",
   "execution_count": 3,
   "id": "574a2edb",
   "metadata": {
    "slideshow": {
     "slide_type": "fragment"
    }
   },
   "outputs": [],
   "source": [
    "# Ones array\n"
   ]
  },
  {
   "cell_type": "markdown",
   "id": "e0669e64",
   "metadata": {
    "slideshow": {
     "slide_type": "slide"
    }
   },
   "source": [
    "# Numpy arrays\n",
    "**1D-arrays**"
   ]
  },
  {
   "cell_type": "code",
   "execution_count": 4,
   "id": "08f1e7c4",
   "metadata": {
    "slideshow": {
     "slide_type": "-"
    }
   },
   "outputs": [],
   "source": [
    "# Sequence\n"
   ]
  },
  {
   "cell_type": "code",
   "execution_count": 5,
   "id": "ad9a8450",
   "metadata": {
    "slideshow": {
     "slide_type": "fragment"
    }
   },
   "outputs": [],
   "source": [
    "# Sequence: arange(start, stop, step). Default: start=0 & step=1\n"
   ]
  },
  {
   "cell_type": "code",
   "execution_count": 6,
   "id": "40b674a6",
   "metadata": {
    "slideshow": {
     "slide_type": "fragment"
    }
   },
   "outputs": [],
   "source": [
    "# Random\n"
   ]
  },
  {
   "cell_type": "markdown",
   "id": "7ab44cf2",
   "metadata": {
    "slideshow": {
     "slide_type": "skip"
    }
   },
   "source": [
    "![Slide1DArrays](imgs/make_1d_arrays.png)"
   ]
  },
  {
   "cell_type": "markdown",
   "id": "062a40c1",
   "metadata": {
    "slideshow": {
     "slide_type": "slide"
    }
   },
   "source": [
    "# Numpy arrays\n",
    "**2D-arrays**"
   ]
  },
  {
   "cell_type": "code",
   "execution_count": 7,
   "id": "d4b1ec2a",
   "metadata": {
    "slideshow": {
     "slide_type": "fragment"
    }
   },
   "outputs": [
    {
     "data": {
      "text/plain": [
       "array([[0., 0., 0.],\n",
       "       [0., 0., 0.]])"
      ]
     },
     "execution_count": 7,
     "metadata": {},
     "output_type": "execute_result"
    }
   ],
   "source": [
    "# Zeros\n",
    "np.zeros((2, 3))"
   ]
  },
  {
   "cell_type": "code",
   "execution_count": 8,
   "id": "8cd9792a",
   "metadata": {
    "slideshow": {
     "slide_type": "fragment"
    }
   },
   "outputs": [
    {
     "data": {
      "text/plain": [
       "array([[1., 1., 1.],\n",
       "       [1., 1., 1.]])"
      ]
     },
     "execution_count": 8,
     "metadata": {},
     "output_type": "execute_result"
    }
   ],
   "source": [
    "# Ones\n",
    "np.ones((2,3))"
   ]
  },
  {
   "cell_type": "code",
   "execution_count": 9,
   "id": "ccbe503a",
   "metadata": {
    "slideshow": {
     "slide_type": "fragment"
    }
   },
   "outputs": [
    {
     "data": {
      "text/plain": [
       "array([[2, 6, 3],\n",
       "       [5, 9, 5]])"
      ]
     },
     "execution_count": 9,
     "metadata": {},
     "output_type": "execute_result"
    }
   ],
   "source": [
    "# Random\n",
    "np.random.randint(0, 10, (2, 3))"
   ]
  },
  {
   "cell_type": "markdown",
   "id": "d409b794",
   "metadata": {
    "slideshow": {
     "slide_type": "slide"
    }
   },
   "source": [
    "# Numpy arrays\n",
    "**2D-arrays**"
   ]
  },
  {
   "cell_type": "code",
   "execution_count": 10,
   "id": "1888cf73",
   "metadata": {
    "slideshow": {
     "slide_type": "-"
    }
   },
   "outputs": [],
   "source": [
    "# Sequences\n"
   ]
  },
  {
   "cell_type": "code",
   "execution_count": 11,
   "id": "a455e088",
   "metadata": {
    "slideshow": {
     "slide_type": "fragment"
    }
   },
   "outputs": [],
   "source": [
    "# More sequences (dense meshgrids)\n"
   ]
  },
  {
   "cell_type": "code",
   "execution_count": null,
   "id": "9492d53c",
   "metadata": {},
   "outputs": [],
   "source": []
  },
  {
   "cell_type": "code",
   "execution_count": null,
   "id": "8261e310",
   "metadata": {},
   "outputs": [],
   "source": []
  },
  {
   "cell_type": "code",
   "execution_count": 12,
   "id": "01b93ac1",
   "metadata": {
    "slideshow": {
     "slide_type": "slide"
    }
   },
   "outputs": [],
   "source": [
    "# More sequences (open meshgrids)\n"
   ]
  },
  {
   "cell_type": "code",
   "execution_count": null,
   "id": "4d46cdcc",
   "metadata": {},
   "outputs": [],
   "source": []
  },
  {
   "cell_type": "code",
   "execution_count": null,
   "id": "cc708ba0",
   "metadata": {},
   "outputs": [],
   "source": []
  },
  {
   "cell_type": "markdown",
   "id": "4670f195",
   "metadata": {
    "slideshow": {
     "slide_type": "slide"
    }
   },
   "source": [
    "# Lists vs numpy arrays\n",
    "**What is a list?**"
   ]
  },
  {
   "cell_type": "code",
   "execution_count": 13,
   "id": "4cbcca5e",
   "metadata": {
    "slideshow": {
     "slide_type": "-"
    }
   },
   "outputs": [
    {
     "data": {
      "text/plain": [
       "[5, 'string', 3.5, ('tu', 'ple')]"
      ]
     },
     "execution_count": 13,
     "metadata": {},
     "output_type": "execute_result"
    }
   ],
   "source": [
    "my_list = [5, \"string\", 3.5, ('tu', 'ple')]\n",
    "my_list"
   ]
  },
  {
   "cell_type": "markdown",
   "id": "0dfd22f3",
   "metadata": {
    "slideshow": {
     "slide_type": "fragment"
    }
   },
   "source": [
    "![memory_lists1](imgs/memory_layout_list_array_1b.png)"
   ]
  },
  {
   "cell_type": "markdown",
   "id": "b6b4da76",
   "metadata": {
    "slideshow": {
     "slide_type": "slide"
    }
   },
   "source": [
    "# Lists vs numpy arrays\n",
    "**What is a list?**"
   ]
  },
  {
   "cell_type": "code",
   "execution_count": 14,
   "id": "57917be1",
   "metadata": {
    "slideshow": {
     "slide_type": "-"
    }
   },
   "outputs": [],
   "source": [
    "my_list = [5, \"string\", 3.5, ('tu', 'ple')]"
   ]
  },
  {
   "cell_type": "markdown",
   "id": "cd0e4f62",
   "metadata": {
    "slideshow": {
     "slide_type": "-"
    }
   },
   "source": [
    "![memory_lists2](imgs/memory_layout_list_array_2b.png)"
   ]
  },
  {
   "cell_type": "markdown",
   "id": "f71321f7",
   "metadata": {
    "slideshow": {
     "slide_type": "slide"
    }
   },
   "source": [
    "# Lists vs numpy arrays\n",
    "**What is a list?**"
   ]
  },
  {
   "cell_type": "code",
   "execution_count": 15,
   "id": "c9f5f30a",
   "metadata": {
    "slideshow": {
     "slide_type": "-"
    }
   },
   "outputs": [],
   "source": [
    "my_list = [5, \"string\", 3.5, ('tu', 'ple')]"
   ]
  },
  {
   "cell_type": "markdown",
   "id": "37c5a658",
   "metadata": {
    "slideshow": {
     "slide_type": "-"
    }
   },
   "source": [
    "![memory_lists3](imgs/memory_layout_list_array_3b.png)"
   ]
  },
  {
   "cell_type": "markdown",
   "id": "ca3e838c",
   "metadata": {
    "slideshow": {
     "slide_type": "slide"
    }
   },
   "source": [
    "# Lists vs numpy arrays\n",
    "**And an array?**"
   ]
  },
  {
   "cell_type": "code",
   "execution_count": 16,
   "id": "5489103a",
   "metadata": {
    "slideshow": {
     "slide_type": "-"
    }
   },
   "outputs": [
    {
     "data": {
      "text/plain": [
       "array([0, 1, 2, 3, 4, 5, 6, 7, 8])"
      ]
     },
     "execution_count": 16,
     "metadata": {},
     "output_type": "execute_result"
    }
   ],
   "source": [
    "my_array = np.array([0, 1, 2, 3, 4, 5, 6, 7, 8])\n",
    "my_array"
   ]
  },
  {
   "cell_type": "markdown",
   "id": "26d7f614",
   "metadata": {
    "slideshow": {
     "slide_type": "-"
    }
   },
   "source": [
    "![memory_lists4](imgs/memory_layout_array3.png)"
   ]
  },
  {
   "cell_type": "markdown",
   "id": "8182fe6b",
   "metadata": {
    "slideshow": {
     "slide_type": "slide"
    }
   },
   "source": [
    "# Lists vs numpy arrays\n",
    "**Indexing in lists**\n",
    "\n",
    "Lists can be indexed with a single number:"
   ]
  },
  {
   "cell_type": "code",
   "execution_count": 17,
   "id": "3d59564f",
   "metadata": {
    "slideshow": {
     "slide_type": "fragment"
    }
   },
   "outputs": [
    {
     "name": "stdout",
     "output_type": "stream",
     "text": [
      "[0, 1, 2, 3, 4, 5, 6, 7, 8]\n"
     ]
    }
   ],
   "source": [
    "my_list = [i for i in range(9)]  # List comprehension\n",
    "print(my_list)"
   ]
  },
  {
   "cell_type": "code",
   "execution_count": 18,
   "id": "2c2654d7",
   "metadata": {
    "slideshow": {
     "slide_type": "-"
    }
   },
   "outputs": [
    {
     "name": "stdout",
     "output_type": "stream",
     "text": [
      "3\n"
     ]
    }
   ],
   "source": [
    "print(my_list[3])"
   ]
  },
  {
   "cell_type": "markdown",
   "id": "ba8013b5",
   "metadata": {
    "slideshow": {
     "slide_type": "slide"
    }
   },
   "source": [
    "# Lists vs numpy arrays\n",
    "**Indexing in arrays**\n",
    "\n",
    "So do arrays:"
   ]
  },
  {
   "cell_type": "code",
   "execution_count": 19,
   "id": "3ae08736",
   "metadata": {
    "slideshow": {
     "slide_type": "-"
    }
   },
   "outputs": [
    {
     "data": {
      "text/plain": [
       "array([0, 1, 2, 3, 4, 5, 6, 7, 8])"
      ]
     },
     "execution_count": 19,
     "metadata": {},
     "output_type": "execute_result"
    }
   ],
   "source": [
    "my_array = np.array([0, 1, 2, 3, 4, 5, 6, 7, 8])\n",
    "my_array"
   ]
  },
  {
   "cell_type": "code",
   "execution_count": 20,
   "id": "8226b617",
   "metadata": {
    "slideshow": {
     "slide_type": "-"
    }
   },
   "outputs": [
    {
     "data": {
      "text/plain": [
       "3"
      ]
     },
     "execution_count": 20,
     "metadata": {},
     "output_type": "execute_result"
    }
   ],
   "source": [
    "my_array[3]"
   ]
  },
  {
   "cell_type": "markdown",
   "id": "bbb3fba7",
   "metadata": {
    "slideshow": {
     "slide_type": "slide"
    }
   },
   "source": [
    "# Lists vs numpy arrays\n",
    "**So why using arrays?**\n",
    "\n",
    "Speed matters: We compare math package functions on lists, **with a list comprehension**, and with numpy universal functions (ufunc)"
   ]
  },
  {
   "cell_type": "code",
   "execution_count": 21,
   "id": "951893b9",
   "metadata": {
    "slideshow": {
     "slide_type": "fragment"
    }
   },
   "outputs": [],
   "source": [
    "import math\n",
    "import random\n",
    "import timeit"
   ]
  },
  {
   "cell_type": "code",
   "execution_count": 22,
   "id": "edb65a93",
   "metadata": {
    "slideshow": {
     "slide_type": "fragment"
    }
   },
   "outputs": [],
   "source": [
    "def compute_square_root(x):\n",
    "    y = np.empty(len(x))\n",
    "    for i in range(len(y)):\n",
    "        y[i] = math.sqrt(x[i])\n",
    "        \n",
    "    return y\n",
    "\n",
    "# List of random numbers\n",
    "x = [random.randint(1, 100) for i in range(10000)]"
   ]
  },
  {
   "cell_type": "code",
   "execution_count": 23,
   "id": "8d653312",
   "metadata": {
    "slideshow": {
     "slide_type": "fragment"
    }
   },
   "outputs": [
    {
     "name": "stdout",
     "output_type": "stream",
     "text": [
      "1.46 ms ± 27.7 µs per loop (mean ± std. dev. of 7 runs, 1,000 loops each)\n"
     ]
    }
   ],
   "source": [
    "%timeit compute_square_root(x)"
   ]
  },
  {
   "cell_type": "markdown",
   "id": "e7a86ef5",
   "metadata": {
    "slideshow": {
     "slide_type": "fragment"
    }
   },
   "source": [
    "Now we do the same but using **numpy universal functions (ufunc)**"
   ]
  },
  {
   "cell_type": "code",
   "execution_count": 24,
   "id": "606e9367",
   "metadata": {
    "slideshow": {
     "slide_type": "-"
    }
   },
   "outputs": [
    {
     "name": "stdout",
     "output_type": "stream",
     "text": [
      "14.9 µs ± 332 ns per loop (mean ± std. dev. of 7 runs, 100,000 loops each)\n"
     ]
    }
   ],
   "source": [
    "x = np.array(x)\n",
    "\n",
    "%timeit np.sqrt(x)"
   ]
  }
 ],
 "metadata": {
  "celltoolbar": "Slideshow",
  "kernelspec": {
   "display_name": "Python 3 (ipykernel)",
   "language": "python",
   "name": "python3"
  },
  "language_info": {
   "codemirror_mode": {
    "name": "ipython",
    "version": 3
   },
   "file_extension": ".py",
   "mimetype": "text/x-python",
   "name": "python",
   "nbconvert_exporter": "python",
   "pygments_lexer": "ipython3",
   "version": "3.9.16"
  },
  "rise": {
   "scroll": true
  }
 },
 "nbformat": 4,
 "nbformat_minor": 5
}
