{
 "cells": [
  {
   "cell_type": "markdown",
   "id": "fd2ee3f2",
   "metadata": {
    "slideshow": {
     "slide_type": "slide"
    }
   },
   "source": [
    "![](imgs/Advanced_numpy_cover.png)"
   ]
  },
  {
   "cell_type": "markdown",
   "id": "81bfa588",
   "metadata": {
    "slideshow": {
     "slide_type": "slide"
    }
   },
   "source": [
    "# Numpy arrays\n",
    "**1D-arrays**"
   ]
  },
  {
   "cell_type": "code",
   "execution_count": null,
   "id": "87f078ef",
   "metadata": {
    "slideshow": {
     "slide_type": "fragment"
    }
   },
   "outputs": [],
   "source": [
    "import numpy as np"
   ]
  },
  {
   "cell_type": "code",
   "execution_count": null,
   "id": "564d466d",
   "metadata": {
    "slideshow": {
     "slide_type": "fragment"
    }
   },
   "outputs": [],
   "source": [
    "# Zeros array\n"
   ]
  },
  {
   "cell_type": "code",
   "execution_count": null,
   "id": "574a2edb",
   "metadata": {
    "slideshow": {
     "slide_type": "fragment"
    }
   },
   "outputs": [],
   "source": [
    "# Ones array\n"
   ]
  },
  {
   "cell_type": "markdown",
   "id": "e0669e64",
   "metadata": {
    "slideshow": {
     "slide_type": "slide"
    }
   },
   "source": [
    "# Numpy arrays\n",
    "**1D-arrays**"
   ]
  },
  {
   "cell_type": "code",
   "execution_count": null,
   "id": "08f1e7c4",
   "metadata": {
    "slideshow": {
     "slide_type": "-"
    }
   },
   "outputs": [],
   "source": [
    "# Sequence\n"
   ]
  },
  {
   "cell_type": "code",
   "execution_count": null,
   "id": "ad9a8450",
   "metadata": {
    "slideshow": {
     "slide_type": "fragment"
    }
   },
   "outputs": [],
   "source": [
    "# Sequence: arange(start, stop, step). Default: start=0 & step=1\n"
   ]
  },
  {
   "cell_type": "code",
   "execution_count": null,
   "id": "40b674a6",
   "metadata": {
    "slideshow": {
     "slide_type": "fragment"
    }
   },
   "outputs": [],
   "source": [
    "# Random\n"
   ]
  },
  {
   "cell_type": "markdown",
   "id": "7ab44cf2",
   "metadata": {
    "slideshow": {
     "slide_type": "skip"
    }
   },
   "source": [
    "![Slide1DArrays](imgs/make_1d_arrays.png)"
   ]
  },
  {
   "cell_type": "markdown",
   "id": "062a40c1",
   "metadata": {
    "slideshow": {
     "slide_type": "slide"
    }
   },
   "source": [
    "# Numpy arrays\n",
    "**2D-arrays**"
   ]
  },
  {
   "cell_type": "code",
   "execution_count": null,
   "id": "d4b1ec2a",
   "metadata": {
    "slideshow": {
     "slide_type": "fragment"
    }
   },
   "outputs": [],
   "source": [
    "# Zeros\n"
   ]
  },
  {
   "cell_type": "code",
   "execution_count": null,
   "id": "8cd9792a",
   "metadata": {
    "slideshow": {
     "slide_type": "fragment"
    }
   },
   "outputs": [],
   "source": [
    "# Ones\n"
   ]
  },
  {
   "cell_type": "code",
   "execution_count": null,
   "id": "ccbe503a",
   "metadata": {
    "slideshow": {
     "slide_type": "fragment"
    }
   },
   "outputs": [],
   "source": [
    "# Random\n"
   ]
  },
  {
   "cell_type": "markdown",
   "id": "d409b794",
   "metadata": {
    "slideshow": {
     "slide_type": "slide"
    }
   },
   "source": [
    "# Numpy arrays\n",
    "**2D-arrays**"
   ]
  },
  {
   "cell_type": "code",
   "execution_count": null,
   "id": "1888cf73",
   "metadata": {
    "slideshow": {
     "slide_type": "-"
    }
   },
   "outputs": [],
   "source": [
    "# Sequences\n"
   ]
  },
  {
   "cell_type": "code",
   "execution_count": null,
   "id": "a455e088",
   "metadata": {
    "slideshow": {
     "slide_type": "fragment"
    }
   },
   "outputs": [],
   "source": [
    "# More sequences (dense meshgrids)\n"
   ]
  },
  {
   "cell_type": "code",
   "execution_count": null,
   "id": "9492d53c",
   "metadata": {},
   "outputs": [],
   "source": []
  },
  {
   "cell_type": "code",
   "execution_count": null,
   "id": "8261e310",
   "metadata": {},
   "outputs": [],
   "source": []
  },
  {
   "cell_type": "code",
   "execution_count": null,
   "id": "01b93ac1",
   "metadata": {
    "slideshow": {
     "slide_type": "slide"
    }
   },
   "outputs": [],
   "source": [
    "# More sequences (open meshgrids)\n"
   ]
  },
  {
   "cell_type": "code",
   "execution_count": null,
   "id": "4d46cdcc",
   "metadata": {},
   "outputs": [],
   "source": []
  },
  {
   "cell_type": "code",
   "execution_count": null,
   "id": "cc708ba0",
   "metadata": {},
   "outputs": [],
   "source": []
  },
  {
   "cell_type": "markdown",
   "id": "4670f195",
   "metadata": {
    "slideshow": {
     "slide_type": "slide"
    }
   },
   "source": [
    "# Lists vs numpy arrays\n",
    "**What is a list?**"
   ]
  },
  {
   "cell_type": "code",
   "execution_count": null,
   "id": "4cbcca5e",
   "metadata": {
    "slideshow": {
     "slide_type": "-"
    }
   },
   "outputs": [],
   "source": [
    "my_list = [5, \"string\", 3.5, ('tu', 'ple')]\n",
    "my_list"
   ]
  },
  {
   "cell_type": "markdown",
   "id": "0dfd22f3",
   "metadata": {
    "slideshow": {
     "slide_type": "fragment"
    }
   },
   "source": [
    "![memory_lists1](imgs/memory_layout_list_array_1b.png)"
   ]
  },
  {
   "cell_type": "markdown",
   "id": "b6b4da76",
   "metadata": {
    "slideshow": {
     "slide_type": "slide"
    }
   },
   "source": [
    "# Lists vs numpy arrays\n",
    "**What is a list?**"
   ]
  },
  {
   "cell_type": "code",
   "execution_count": null,
   "id": "57917be1",
   "metadata": {
    "slideshow": {
     "slide_type": "-"
    }
   },
   "outputs": [],
   "source": [
    "my_list = [5, \"string\", 3.5, ('tu', 'ple')]"
   ]
  },
  {
   "cell_type": "markdown",
   "id": "cd0e4f62",
   "metadata": {
    "slideshow": {
     "slide_type": "-"
    }
   },
   "source": [
    "![memory_lists2](imgs/memory_layout_list_array_2b.png)"
   ]
  },
  {
   "cell_type": "markdown",
   "id": "f71321f7",
   "metadata": {
    "slideshow": {
     "slide_type": "slide"
    }
   },
   "source": [
    "# Lists vs numpy arrays\n",
    "**What is a list?**"
   ]
  },
  {
   "cell_type": "code",
   "execution_count": null,
   "id": "c9f5f30a",
   "metadata": {
    "slideshow": {
     "slide_type": "-"
    }
   },
   "outputs": [],
   "source": [
    "my_list = [5, \"string\", 3.5, ('tu', 'ple')]"
   ]
  },
  {
   "cell_type": "markdown",
   "id": "37c5a658",
   "metadata": {
    "slideshow": {
     "slide_type": "-"
    }
   },
   "source": [
    "![memory_lists3](imgs/memory_layout_list_array_3b.png)"
   ]
  },
  {
   "cell_type": "markdown",
   "id": "ca3e838c",
   "metadata": {
    "slideshow": {
     "slide_type": "slide"
    }
   },
   "source": [
    "# Lists vs numpy arrays\n",
    "**And an array?**"
   ]
  },
  {
   "cell_type": "code",
   "execution_count": null,
   "id": "5489103a",
   "metadata": {
    "slideshow": {
     "slide_type": "-"
    }
   },
   "outputs": [],
   "source": [
    "my_array = np.array([0, 1, 2, 3, 4, 5, 6, 7, 8])\n",
    "my_array"
   ]
  },
  {
   "cell_type": "markdown",
   "id": "26d7f614",
   "metadata": {
    "slideshow": {
     "slide_type": "-"
    }
   },
   "source": [
    "![memory_lists4](imgs/memory_layout_array3.png)"
   ]
  },
  {
   "cell_type": "markdown",
   "id": "8182fe6b",
   "metadata": {
    "slideshow": {
     "slide_type": "slide"
    }
   },
   "source": [
    "# Lists vs numpy arrays\n",
    "**Indexing in lists**\n",
    "\n",
    "Lists can be indexed with a single number:"
   ]
  },
  {
   "cell_type": "code",
   "execution_count": null,
   "id": "3d59564f",
   "metadata": {
    "slideshow": {
     "slide_type": "fragment"
    }
   },
   "outputs": [],
   "source": [
    "my_list = [i for i in range(9)]  # List comprehension\n",
    "print(my_list)"
   ]
  },
  {
   "cell_type": "code",
   "execution_count": null,
   "id": "2c2654d7",
   "metadata": {
    "slideshow": {
     "slide_type": "-"
    }
   },
   "outputs": [],
   "source": [
    "print(my_list[3])"
   ]
  },
  {
   "cell_type": "markdown",
   "id": "ba8013b5",
   "metadata": {
    "slideshow": {
     "slide_type": "slide"
    }
   },
   "source": [
    "# Lists vs numpy arrays\n",
    "**Indexing in arrays**\n",
    "\n",
    "So do arrays:"
   ]
  },
  {
   "cell_type": "code",
   "execution_count": null,
   "id": "3ae08736",
   "metadata": {
    "slideshow": {
     "slide_type": "-"
    }
   },
   "outputs": [],
   "source": [
    "my_array = np.array([0, 1, 2, 3, 4, 5, 6, 7, 8])\n",
    "my_array"
   ]
  },
  {
   "cell_type": "code",
   "execution_count": null,
   "id": "8226b617",
   "metadata": {
    "slideshow": {
     "slide_type": "-"
    }
   },
   "outputs": [],
   "source": [
    "my_array[3]"
   ]
  },
  {
   "cell_type": "markdown",
   "id": "bbb3fba7",
   "metadata": {
    "slideshow": {
     "slide_type": "slide"
    }
   },
   "source": [
    "# Lists vs numpy arrays\n",
    "**So why using arrays?**\n",
    "\n",
    "Speed matters: We compare math package functions on lists, **with a list comprehension**, and with numpy universal functions (ufunc)"
   ]
  },
  {
   "cell_type": "code",
   "execution_count": null,
   "id": "951893b9",
   "metadata": {
    "slideshow": {
     "slide_type": "fragment"
    }
   },
   "outputs": [],
   "source": [
    "import math\n",
    "import random\n",
    "import timeit"
   ]
  },
  {
   "cell_type": "code",
   "execution_count": null,
   "id": "edb65a93",
   "metadata": {
    "slideshow": {
     "slide_type": "fragment"
    }
   },
   "outputs": [],
   "source": [
    "def compute_square_root(x):\n",
    "    y = np.empty(len(x))\n",
    "    for i in range(len(y)):\n",
    "        y[i] = math.sqrt(x[i])\n",
    "        \n",
    "    return y\n",
    "\n",
    "# List of random numbers\n",
    "x = [random.randint(1, 100) for i in range(10000)]"
   ]
  },
  {
   "cell_type": "code",
   "execution_count": null,
   "id": "8d653312",
   "metadata": {
    "slideshow": {
     "slide_type": "fragment"
    }
   },
   "outputs": [],
   "source": [
    "%timeit compute_square_root(x)"
   ]
  },
  {
   "cell_type": "markdown",
   "id": "e7a86ef5",
   "metadata": {
    "slideshow": {
     "slide_type": "fragment"
    }
   },
   "source": [
    "Now we do the same but using **numpy universal functions (ufunc)**"
   ]
  },
  {
   "cell_type": "code",
   "execution_count": null,
   "id": "606e9367",
   "metadata": {
    "slideshow": {
     "slide_type": "-"
    }
   },
   "outputs": [],
   "source": [
    "x = np.array(x)\n",
    "\n",
    "%timeit np.sqrt(x)"
   ]
  }
 ],
 "metadata": {
  "celltoolbar": "Slideshow",
  "kernelspec": {
   "display_name": "Python 3 (ipykernel)",
   "language": "python",
   "name": "python3"
  },
  "language_info": {
   "codemirror_mode": {
    "name": "ipython",
    "version": 3
   },
   "file_extension": ".py",
   "mimetype": "text/x-python",
   "name": "python",
   "nbconvert_exporter": "python",
   "pygments_lexer": "ipython3",
   "version": "3.9.16"
  },
  "rise": {
   "scroll": true
  }
 },
 "nbformat": 4,
 "nbformat_minor": 5
}
