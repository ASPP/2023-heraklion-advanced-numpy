{
 "cells": [
  {
   "cell_type": "markdown",
   "id": "0923d548",
   "metadata": {
    "slideshow": {
     "slide_type": "slide"
    }
   },
   "source": [
    "### Extra: loading and saving arrays"
   ]
  },
  {
   "cell_type": "code",
   "execution_count": 1,
   "id": "e8db3ab7",
   "metadata": {
    "slideshow": {
     "slide_type": "skip"
    }
   },
   "outputs": [],
   "source": [
    "import numpy as np"
   ]
  },
  {
   "cell_type": "markdown",
   "id": "6a63f02c",
   "metadata": {
    "slideshow": {
     "slide_type": "fragment"
    }
   },
   "source": [
    "Simple, with ```np.load``` and ```np.save```. File contains only *one* array and saves in binary."
   ]
  },
  {
   "cell_type": "code",
   "execution_count": 2,
   "id": "ac09be30",
   "metadata": {
    "slideshow": {
     "slide_type": "fragment"
    }
   },
   "outputs": [],
   "source": [
    "a = np.random.randint(1, 10, (100, 100))\n",
    "\n",
    "np.save('data/random', a)\n"
   ]
  },
  {
   "cell_type": "code",
   "execution_count": 3,
   "id": "4d77ad21",
   "metadata": {
    "slideshow": {
     "slide_type": "fragment"
    }
   },
   "outputs": [],
   "source": [
    "np.save('data/random_notpickled', a, allow_pickle=False)"
   ]
  },
  {
   "cell_type": "markdown",
   "id": "321f2a95",
   "metadata": {},
   "source": [
    "We can also save array as text file, not binary."
   ]
  },
  {
   "cell_type": "code",
   "execution_count": 4,
   "id": "c1d79d94",
   "metadata": {},
   "outputs": [],
   "source": [
    "np.savetxt('data/random_as_text.txt', a)"
   ]
  },
  {
   "cell_type": "markdown",
   "id": "088629db",
   "metadata": {},
   "source": [
    "Q: Compare the file sizes, notice a difference?"
   ]
  },
  {
   "cell_type": "markdown",
   "id": "8f0d2275",
   "metadata": {
    "slideshow": {
     "slide_type": "slide"
    }
   },
   "source": [
    "Loading with ```np.load```"
   ]
  },
  {
   "cell_type": "code",
   "execution_count": 5,
   "id": "0dfb7785",
   "metadata": {
    "scrolled": true,
    "slideshow": {
     "slide_type": "-"
    }
   },
   "outputs": [
    {
     "data": {
      "text/plain": [
       "array([[5, 4, 1, ..., 1, 6, 7],\n",
       "       [2, 3, 4, ..., 1, 3, 1],\n",
       "       [4, 4, 1, ..., 2, 9, 4],\n",
       "       ...,\n",
       "       [6, 2, 5, ..., 4, 6, 3],\n",
       "       [7, 3, 6, ..., 6, 5, 5],\n",
       "       [5, 4, 9, ..., 2, 6, 9]])"
      ]
     },
     "execution_count": 5,
     "metadata": {},
     "output_type": "execute_result"
    }
   ],
   "source": [
    "np.load('data/random.npy')"
   ]
  },
  {
   "cell_type": "markdown",
   "id": "9f33d09e",
   "metadata": {
    "slideshow": {
     "slide_type": "slide"
    }
   },
   "source": [
    "For **several** arrays: ```np.savez``` saves in ```.npz``` format."
   ]
  },
  {
   "cell_type": "code",
   "execution_count": 6,
   "id": "8e9e809f",
   "metadata": {
    "slideshow": {
     "slide_type": "fragment"
    }
   },
   "outputs": [],
   "source": [
    "b = np.random.randint(1, 10, (100, 100))\n",
    "\n",
    "np.savez('data/arrays.npz', x=a, y=b)"
   ]
  },
  {
   "cell_type": "code",
   "execution_count": 7,
   "id": "323c183a",
   "metadata": {},
   "outputs": [
    {
     "data": {
      "text/plain": [
       "['x', 'y']"
      ]
     },
     "execution_count": 7,
     "metadata": {},
     "output_type": "execute_result"
    }
   ],
   "source": [
    "data = np.load('data/arrays.npz')\n",
    "data.files"
   ]
  },
  {
   "cell_type": "code",
   "execution_count": 8,
   "id": "234d33c0",
   "metadata": {},
   "outputs": [
    {
     "data": {
      "text/plain": [
       "array([[5, 4, 1, ..., 1, 6, 7],\n",
       "       [2, 3, 4, ..., 1, 3, 1],\n",
       "       [4, 4, 1, ..., 2, 9, 4],\n",
       "       ...,\n",
       "       [6, 2, 5, ..., 4, 6, 3],\n",
       "       [7, 3, 6, ..., 6, 5, 5],\n",
       "       [5, 4, 9, ..., 2, 6, 9]])"
      ]
     },
     "execution_count": 8,
     "metadata": {},
     "output_type": "execute_result"
    }
   ],
   "source": [
    "data['x']"
   ]
  }
 ],
 "metadata": {
  "celltoolbar": "Slideshow",
  "kernelspec": {
   "display_name": "Python 3 (ipykernel)",
   "language": "python",
   "name": "python3"
  },
  "language_info": {
   "codemirror_mode": {
    "name": "ipython",
    "version": 3
   },
   "file_extension": ".py",
   "mimetype": "text/x-python",
   "name": "python",
   "nbconvert_exporter": "python",
   "pygments_lexer": "ipython3",
   "version": "3.9.16"
  }
 },
 "nbformat": 4,
 "nbformat_minor": 5
}
